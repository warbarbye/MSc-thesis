{
 "cells": [
  {
   "cell_type": "code",
   "execution_count": 13,
   "metadata": {},
   "outputs": [],
   "source": [
    "library(tidyverse)\n",
    "library(magrittr)\n",
    "library(latex2exp)\n",
    "library(gridExtra)\n",
    "library(scales)\n",
    "library(cowplot)\n",
    "source(\"../src/cma-es-csa.R\")\n",
    "source(\"../src/cma-es-msr.R\")\n",
    "source(\"../src/cma-es-expth.R\")\n",
    "source(\"../src/cma-es-ja.R\")\n",
    "source(\"../src/cma-es-quant.R\")\n",
    "options(repr.plot.width=10, repr.plot.height=10)\n",
    "source(\"../src/plot-utils.R\")"
   ]
  },
  {
   "cell_type": "code",
   "execution_count": 14,
   "metadata": {},
   "outputs": [],
   "source": [
    "func = function(x) x[1]\n",
    "methods = list(\n",
    "    cma_es_csa,\n",
    "    cma_es_ja,\n",
    "    cma_es_msr,\n",
    "    cma_es_expth,\n",
    "    cma_es_quant)\n",
    "\n",
    "lower = -100\n",
    "upper = 100 \n",
    "x0 = 100\n",
    "CMA_flag = FALSE\n",
    "alog10 = . %>% abs() %>% log10()"
   ]
  },
  {
   "cell_type": "code",
   "execution_count": 15,
   "metadata": {},
   "outputs": [],
   "source": [
    "results_5d = \n",
    "    do_experiment(\n",
    "        methods,\n",
    "        func,\n",
    "        5,\n",
    "        x0,\n",
    "        lower = lower,\n",
    "        upper = upper,\n",
    "        if_CMA = CMA_flag\n",
    "    ) %>%\n",
    "    rename_algs() %>%\n",
    "    dplyr::mutate(Dim = 5)"
   ]
  },
  {
   "cell_type": "code",
   "execution_count": 16,
   "metadata": {},
   "outputs": [],
   "source": [
    "results_10d = \n",
    "    do_experiment(\n",
    "        methods,\n",
    "        func,\n",
    "        10,\n",
    "        x0,\n",
    "        lower = lower,\n",
    "        upper = upper,\n",
    "        if_CMA = CMA_flag\n",
    "    ) %>%\n",
    "    rename_algs()  %>%\n",
    "    dplyr::mutate(Dim = 10)"
   ]
  },
  {
   "cell_type": "code",
   "execution_count": 17,
   "metadata": {},
   "outputs": [],
   "source": [
    "results_30d = \n",
    "    do_experiment(\n",
    "        methods,\n",
    "        func,\n",
    "        30,\n",
    "        x0,\n",
    "        lower = lower,\n",
    "        upper = upper,\n",
    "        if_CMA = CMA_flag\n",
    "    ) %>%\n",
    "    rename_algs()  %>%\n",
    "    dplyr::mutate(Dim = 30)"
   ]
  },
  {
   "cell_type": "code",
   "execution_count": 18,
   "metadata": {},
   "outputs": [],
   "source": [
    "results_50d = \n",
    "    do_experiment(\n",
    "        methods,\n",
    "        func,\n",
    "        50,\n",
    "        x0,\n",
    "        lower = lower,\n",
    "        upper = upper,\n",
    "        if_CMA = CMA_flag\n",
    "    ) %>%\n",
    "    rename_algs() %>%\n",
    "    dplyr::mutate(Dim = 50)"
   ]
  },
  {
   "cell_type": "code",
   "execution_count": 19,
   "metadata": {},
   "outputs": [],
   "source": [
    "all_results = \n",
    "    dplyr::bind_rows(results_5d, results_10d, results_30d, results_50d)"
   ]
  },
  {
   "cell_type": "code",
   "execution_count": 20,
   "metadata": {},
   "outputs": [],
   "source": [
    "p_d5 = \n",
    "    all_results %>%\n",
    "    dplyr::filter(Dim == 5, t <= 400) %>%\n",
    "    sigma_plot() + theme(legend.position =  'none') + ggtitle(\"n = 5\")\n",
    "p_d10 = \n",
    "    all_results %>%\n",
    "    dplyr::filter(Dim == 10, t <= 400) %>%\n",
    "    sigma_plot() + \n",
    "    theme(legend.position =  c(0.3, 0.7)) +\n",
    "    ggtitle(\"n = 10\") +\n",
    "    ylab(\"\")\n",
    "p_d30 = \n",
    "    all_results %>%\n",
    "    dplyr::filter(Dim == 30, t <= 400) %>%\n",
    "    sigma_plot() + theme(legend.position = \"none\") + ggtitle(\"n = 30\")\n",
    "p_d50 = \n",
    "    all_results %>%\n",
    "    dplyr::filter(Dim == 50, t <= 400) %>%\n",
    "    sigma_plot() + \n",
    "    theme(legend.position = \"none\") +\n",
    "    ggtitle(\"n = 50\") +\n",
    "    ylab(\"\")"
   ]
  },
  {
   "cell_type": "code",
   "execution_count": 21,
   "metadata": {},
   "outputs": [],
   "source": [
    "s_plot = plot_grid(p_d5, p_d10, p_d30, p_d50)"
   ]
  },
  {
   "cell_type": "code",
   "execution_count": 22,
   "metadata": {},
   "outputs": [],
   "source": [
    "best_d5 = \n",
    "    all_results %>%\n",
    "    dplyr::filter(Dim == 5, t <= 400) %>%\n",
    "    value_plot(.f = abs) + theme(legend.position =  'none') + ggtitle(\"n = 5\")\n",
    "best_d10 = \n",
    "    all_results %>%\n",
    "    dplyr::filter(Dim == 10, t <= 400) %>%\n",
    "    value_plot(.f = abs) + \n",
    "    theme(legend.position =  c(0.3, 0.7)) +\n",
    "    ggtitle(\"n = 10\") +\n",
    "    ylab(\"\")\n",
    "best_d30 = \n",
    "    all_results %>%\n",
    "    dplyr::filter(Dim == 30, t <= 400) %>%\n",
    "    value_plot(.f = abs) + theme(legend.position = \"none\") + ggtitle(\"n = 30\")\n",
    "best_d50 = \n",
    "    all_results %>%\n",
    "    dplyr::filter(Dim == 50, t <= 400) %>%\n",
    "    value_plot(.f = abs) + \n",
    "    theme(legend.position = \"none\") +\n",
    "    ggtitle(\"n = 50\") +\n",
    "    ylab(\"\")"
   ]
  },
  {
   "cell_type": "code",
   "execution_count": 23,
   "metadata": {},
   "outputs": [],
   "source": [
    "q_plot = plot_grid(best_d5, best_d10, best_d30, best_d50)"
   ]
  },
  {
   "cell_type": "code",
   "execution_count": 24,
   "metadata": {},
   "outputs": [],
   "source": [
    "s_plot %>%\n",
    "    ggplot2::ggsave(\n",
    "        filename = \"./lin-sigma.eps\",\n",
    "        height = 9,\n",
    "        width = 9,\n",
    "        device = cairo_ps\n",
    "    )"
   ]
  },
  {
   "cell_type": "code",
   "execution_count": 26,
   "metadata": {},
   "outputs": [],
   "source": [
    "q_plot %>%\n",
    "    ggplot2::ggsave(\n",
    "        filename = \"./lin-q.eps\",\n",
    "        height = 9,\n",
    "        width = 9,\n",
    "        device = cairo_ps\n",
    "    )"
   ]
  },
  {
   "cell_type": "code",
   "execution_count": null,
   "metadata": {},
   "outputs": [],
   "source": []
  }
 ],
 "metadata": {
  "kernelspec": {
   "display_name": "R",
   "language": "R",
   "name": "ir"
  },
  "language_info": {
   "codemirror_mode": "r",
   "file_extension": ".r",
   "mimetype": "text/x-r-source",
   "name": "R",
   "pygments_lexer": "r",
   "version": "3.5.1"
  }
 },
 "nbformat": 4,
 "nbformat_minor": 4
}
