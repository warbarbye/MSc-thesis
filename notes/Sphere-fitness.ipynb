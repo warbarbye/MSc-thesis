{
 "cells": [
  {
   "cell_type": "code",
   "execution_count": 1,
   "metadata": {},
   "outputs": [
    {
     "name": "stderr",
     "output_type": "stream",
     "text": [
      "── \u001b[1mAttaching packages\u001b[22m ─────────────────────────────────────── tidyverse 1.3.0 ──\n",
      "\n",
      "\u001b[32m✔\u001b[39m \u001b[34mggplot2\u001b[39m 3.3.1     \u001b[32m✔\u001b[39m \u001b[34mpurrr  \u001b[39m 0.3.4\n",
      "\u001b[32m✔\u001b[39m \u001b[34mtibble \u001b[39m 3.0.1     \u001b[32m✔\u001b[39m \u001b[34mdplyr  \u001b[39m 1.0.0\n",
      "\u001b[32m✔\u001b[39m \u001b[34mtidyr  \u001b[39m 1.0.2     \u001b[32m✔\u001b[39m \u001b[34mstringr\u001b[39m 1.4.0\n",
      "\u001b[32m✔\u001b[39m \u001b[34mreadr  \u001b[39m 1.3.1     \u001b[32m✔\u001b[39m \u001b[34mforcats\u001b[39m 0.5.0\n",
      "\n",
      "── \u001b[1mConflicts\u001b[22m ────────────────────────────────────────── tidyverse_conflicts() ──\n",
      "\u001b[31m✖\u001b[39m \u001b[34mdplyr\u001b[39m::\u001b[32mfilter()\u001b[39m masks \u001b[34mstats\u001b[39m::filter()\n",
      "\u001b[31m✖\u001b[39m \u001b[34mdplyr\u001b[39m::\u001b[32mlag()\u001b[39m    masks \u001b[34mstats\u001b[39m::lag()\n",
      "\n",
      "\n",
      "Attaching package: ‘magrittr’\n",
      "\n",
      "\n",
      "The following object is masked from ‘package:purrr’:\n",
      "\n",
      "    set_names\n",
      "\n",
      "\n",
      "The following object is masked from ‘package:tidyr’:\n",
      "\n",
      "    extract\n",
      "\n",
      "\n",
      "\n",
      "Attaching package: ‘gridExtra’\n",
      "\n",
      "\n",
      "The following object is masked from ‘package:dplyr’:\n",
      "\n",
      "    combine\n",
      "\n",
      "\n",
      "\n",
      "Attaching package: ‘scales’\n",
      "\n",
      "\n",
      "The following object is masked from ‘package:purrr’:\n",
      "\n",
      "    discard\n",
      "\n",
      "\n",
      "The following object is masked from ‘package:readr’:\n",
      "\n",
      "    col_factor\n",
      "\n",
      "\n",
      "\n",
      "********************************************************\n",
      "\n",
      "Note: As of version 1.0.0, cowplot does not change the\n",
      "\n",
      "  default ggplot2 theme anymore. To recover the previous\n",
      "\n",
      "  behavior, execute:\n",
      "  theme_set(theme_cowplot())\n",
      "\n",
      "********************************************************\n",
      "\n",
      "\n"
     ]
    }
   ],
   "source": [
    "library(tidyverse)\n",
    "library(magrittr)\n",
    "library(latex2exp)\n",
    "library(gridExtra)\n",
    "library(scales)\n",
    "library(cowplot)\n",
    "source(\"../src/cma-es-csa.R\")\n",
    "source(\"../src/cma-es-msr.R\")\n",
    "source(\"../src/cma-es-expth.R\")\n",
    "source(\"../src/cma-es-ja.R\")\n",
    "source(\"../src/cma-es-quant.R\")\n",
    "options(repr.plot.width=10, repr.plot.height=10)\n",
    "source(\"../src/plot-utils.R\")"
   ]
  },
  {
   "cell_type": "code",
   "execution_count": 2,
   "metadata": {},
   "outputs": [],
   "source": [
    "func = function(x) crossprod(x)\n",
    "methods = list(\n",
    "    cma_es_csa,\n",
    "    cma_es_ja,\n",
    "    cma_es_msr,\n",
    "    cma_es_expth,\n",
    "    cma_es_quant)\n",
    "\n",
    "lower = -100\n",
    "upper = 100 \n",
    "x0 = 100\n",
    "CMA_flag = FALSE\n",
    "alog10 = . %>% abs() %>% log10()"
   ]
  },
  {
   "cell_type": "code",
   "execution_count": 3,
   "metadata": {},
   "outputs": [],
   "source": [
    "results_5d = \n",
    "    do_experiment(\n",
    "        methods,\n",
    "        func,\n",
    "        5,\n",
    "        x0,\n",
    "        lower = lower,\n",
    "        upper = upper,\n",
    "        if_CMA = CMA_flag\n",
    "    ) %>%\n",
    "    rename_algs() %>%\n",
    "    dplyr::mutate(Dim = 5)"
   ]
  },
  {
   "cell_type": "code",
   "execution_count": 4,
   "metadata": {},
   "outputs": [],
   "source": [
    "results_10d = \n",
    "    do_experiment(\n",
    "        methods,\n",
    "        func,\n",
    "        10,\n",
    "        x0,\n",
    "        lower = lower,\n",
    "        upper = upper,\n",
    "        if_CMA = CMA_flag\n",
    "    ) %>%\n",
    "    rename_algs()  %>%\n",
    "    dplyr::mutate(Dim = 10)"
   ]
  },
  {
   "cell_type": "code",
   "execution_count": null,
   "metadata": {},
   "outputs": [],
   "source": [
    "results_30d = \n",
    "    do_experiment(\n",
    "        methods,\n",
    "        func,\n",
    "        30,\n",
    "        x0,\n",
    "        lower = lower,\n",
    "        upper = upper,\n",
    "        if_CMA = CMA_flag\n",
    "    ) %>%\n",
    "    rename_algs()  %>%\n",
    "    dplyr::mutate(Dim = 30)"
   ]
  },
  {
   "cell_type": "code",
   "execution_count": null,
   "metadata": {},
   "outputs": [],
   "source": [
    "results_50d = \n",
    "    do_experiment(\n",
    "        methods,\n",
    "        func,\n",
    "        50,\n",
    "        x0,\n",
    "        lower = lower,\n",
    "        upper = upper,\n",
    "        if_CMA = CMA_flag\n",
    "    ) %>%\n",
    "    rename_algs() %>%\n",
    "    dplyr::mutate(Dim = 50)"
   ]
  },
  {
   "cell_type": "code",
   "execution_count": null,
   "metadata": {},
   "outputs": [],
   "source": [
    "all_results = \n",
    "    dplyr::bind_rows(results_5d, results_10d, results_30d, results_50d)"
   ]
  },
  {
   "cell_type": "code",
   "execution_count": null,
   "metadata": {},
   "outputs": [],
   "source": [
    "p_d5 = \n",
    "    all_results %>%\n",
    "    dplyr::filter(Dim == 5, t <= 200) %>%\n",
    "    sigma_plot() + theme(legend.position =  'none') + ggtitle(\"n = 5\")\n",
    "p_d10 = \n",
    "    all_results %>%\n",
    "    dplyr::filter(Dim == 10, t <= 200) %>%\n",
    "    sigma_plot() + \n",
    "    theme(legend.position =  c(0.3, 0.3)) +\n",
    "    ggtitle(\"n = 10\") +\n",
    "    ylab(\"\")\n",
    "p_d30 = \n",
    "    all_results %>%\n",
    "    dplyr::filter(Dim == 30, t <= 200) %>%\n",
    "    sigma_plot() + theme(legend.position = \"none\") + ggtitle(\"n = 30\")\n",
    "p_d50 = \n",
    "    all_results %>%\n",
    "    dplyr::filter(Dim == 50, t <= 200) %>%\n",
    "    sigma_plot() + \n",
    "    theme(legend.position = \"none\") +\n",
    "    ggtitle(\"n = 50\") +\n",
    "    ylab(\"\")"
   ]
  },
  {
   "cell_type": "code",
   "execution_count": null,
   "metadata": {},
   "outputs": [],
   "source": [
    "plot_grid(p_d5, p_d10, p_d30, p_d50)"
   ]
  },
  {
   "cell_type": "code",
   "execution_count": null,
   "metadata": {},
   "outputs": [],
   "source": [
    "best_d5 = \n",
    "    all_results %>%\n",
    "    dplyr::filter(Dim == 5,  t <= 200) %>%\n",
    "    value_plot() + theme(legend.position =  'none') + ggtitle(\"n = 5\")\n",
    "best_d10 = \n",
    "    all_results %>%\n",
    "    dplyr::filter(Dim == 10,  t <= 200) %>%\n",
    "    value_plot() + \n",
    "    theme(legend.position =  c(0.30, 0.3)) +\n",
    "    ggtitle(\"n = 10\") +\n",
    "    ylab(\"\")\n",
    "best_d30 = \n",
    "    all_results %>%\n",
    "    dplyr::filter(Dim == 30, t <= 200) %>%\n",
    "    value_plot() + theme(legend.position = \"none\") + ggtitle(\"n = 30\")\n",
    "best_d50 = \n",
    "    all_results %>%\n",
    "    dplyr::filter(Dim == 50, t <= 200) %>%\n",
    "    value_plot() + \n",
    "    theme(legend.position = \"none\") +\n",
    "    ggtitle(\"n = 50\") +\n",
    "    ylab(\"\")"
   ]
  },
  {
   "cell_type": "code",
   "execution_count": null,
   "metadata": {},
   "outputs": [],
   "source": [
    "plot_grid(best_d5, best_d10, best_d30, best_d50)"
   ]
  },
  {
   "cell_type": "code",
   "execution_count": null,
   "metadata": {},
   "outputs": [],
   "source": []
  }
 ],
 "metadata": {
  "kernelspec": {
   "display_name": "R",
   "language": "R",
   "name": "ir"
  },
  "language_info": {
   "codemirror_mode": "r",
   "file_extension": ".r",
   "mimetype": "text/x-r-source",
   "name": "R",
   "pygments_lexer": "r",
   "version": "3.6.2"
  }
 },
 "nbformat": 4,
 "nbformat_minor": 4
}
